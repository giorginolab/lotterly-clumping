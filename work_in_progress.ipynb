{
  "nbformat": 4,
  "nbformat_minor": 0,
  "metadata": {
    "colab": {
      "name": "Colab's New Code Editor",
      "provenance": [],
      "collapsed_sections": [],
      "include_colab_link": true
    },
    "kernelspec": {
      "display_name": "Python 3",
      "name": "python3"
    }
  },
  "cells": [
    {
      "cell_type": "markdown",
      "metadata": {
        "id": "view-in-github",
        "colab_type": "text"
      },
      "source": [
        "<a href=\"https://colab.research.google.com/github/giorginolab/lottery-clumping/blob/master/work_in_progress.ipynb\" target=\"_parent\"><img src=\"https://colab.research.google.com/assets/colab-badge.svg\" alt=\"Open In Colab\"/></a>"
      ]
    },
    {
      "cell_type": "code",
      "metadata": {
        "id": "AABuJWZtfFgr",
        "colab_type": "code",
        "colab": {}
      },
      "source": [
        "import numpy as np\n",
        "import matplotlib.pyplot as plt\n"
      ],
      "execution_count": 0,
      "outputs": []
    },
    {
      "cell_type": "code",
      "metadata": {
        "id": "EKCTHEwbfGov",
        "colab_type": "code",
        "colab": {}
      },
      "source": [
        "def mdistC(n=200, N=int(6e6), C=2):\n",
        "  while True:\n",
        "    w = np.sort(np.random.randint(1,N,n))\n",
        "    if np.min(np.diff(w)) != 0:\n",
        "      break\n",
        "  wd = w-np.roll(w,C-1)\n",
        "  wd = wd[(C-1):]\n",
        "  m = np.min(wd)\n",
        "  return m"
      ],
      "execution_count": 0,
      "outputs": []
    },
    {
      "cell_type": "code",
      "metadata": {
        "id": "fUIqseqSgfcQ",
        "colab_type": "code",
        "colab": {}
      },
      "source": [
        "R=1000\n",
        "md = np.zeros([R],dtype=int)\n",
        "for i in range(R): \n",
        "  md[i] = mdistC()"
      ],
      "execution_count": 0,
      "outputs": []
    },
    {
      "cell_type": "code",
      "metadata": {
        "id": "HlhpRWO5hNHm",
        "colab_type": "code",
        "colab": {}
      },
      "source": [
        "u=np.bincount(md) / R\n",
        "cu = np.cumsum(u)"
      ],
      "execution_count": 0,
      "outputs": []
    },
    {
      "cell_type": "code",
      "metadata": {
        "id": "aM93YqJEhlYu",
        "colab_type": "code",
        "colab": {
          "base_uri": "https://localhost:8080/",
          "height": 282
        },
        "outputId": "022b06ad-8ce3-462f-8209-36387257c2da"
      },
      "source": [
        "plt.plot(cu[0:20],'o')"
      ],
      "execution_count": 63,
      "outputs": [
        {
          "output_type": "execute_result",
          "data": {
            "text/plain": [
              "[<matplotlib.lines.Line2D at 0x7f2694716518>]"
            ]
          },
          "metadata": {
            "tags": []
          },
          "execution_count": 63
        },
        {
          "output_type": "display_data",
          "data": {
            "image/png": "[encoded data removed]",
            "text/plain": [
              "<Figure size 432x288 with 1 Axes>"
            ]
          },
          "metadata": {
            "tags": []
          }
        }
      ]
    },
    {
      "cell_type": "code",
      "metadata": {
        "id": "WyHvw-IZij5e",
        "colab_type": "code",
        "colab": {}
      },
      "source": [
        "R=10000000\n",
        "md3 = np.zeros([R],dtype=int)\n",
        "for i in range(R): \n",
        "  md3[i] = mdistC(C=3)"
      ],
      "execution_count": 0,
      "outputs": []
    },
    {
      "cell_type": "code",
      "metadata": {
        "id": "G17WWdabjzDH",
        "colab_type": "code",
        "colab": {}
      },
      "source": [
        "md3s = np.sort(md3)\n",
        "D = np.arange(R)/R"
      ],
      "execution_count": 0,
      "outputs": []
    },
    {
      "cell_type": "code",
      "metadata": {
        "id": "bs-vyrcpkFvg",
        "colab_type": "code",
        "colab": {
          "base_uri": "https://localhost:8080/",
          "height": 282
        },
        "outputId": "694d5530-dcce-4523-a645-24dcc224abbe"
      },
      "source": [
        "plt.plot(md3s,D)"
      ],
      "execution_count": 70,
      "outputs": [
        {
          "output_type": "execute_result",
          "data": {
            "text/plain": [
              "[<matplotlib.lines.Line2D at 0x7f26945bf2e8>]"
            ]
          },
          "metadata": {
            "tags": []
          },
          "execution_count": 70
        },
        {
          "output_type": "display_data",
          "data": {
            "image/png": "[encoded data removed]",
            "text/plain": [
              "<Figure size 432x288 with 1 Axes>"
            ]
          },
          "metadata": {
            "tags": []
          }
        }
      ]
    },
    {
      "cell_type": "code",
      "metadata": {
        "id": "xBW2zXQ1kO4g",
        "colab_type": "code",
        "colab": {
          "base_uri": "https://localhost:8080/",
          "height": 297
        },
        "outputId": "2179fcba-b6bc-40da-bb27-bd338f7dd1ab"
      },
      "source": [
        "plt.plot(md3s[:30],D[:30] * 1e6,'o')\n",
        "plt.xlabel(\"3-clump diameter\")\n",
        "plt.ylabel(\"Cumulative probability (x 10^6)\")"
      ],
      "execution_count": 71,
      "outputs": [
        {
          "output_type": "execute_result",
          "data": {
            "text/plain": [
              "Text(0, 0.5, 'Cumulative probability (x 10^6)')"
            ]
          },
          "metadata": {
            "tags": []
          },
          "execution_count": 71
        },
        {
          "output_type": "display_data",
          "data": {
            "image/png": "[encoded data removed]",
            "text/plain": [
              "<Figure size 432x288 with 1 Axes>"
            ]
          },
          "metadata": {
            "tags": []
          }
        }
      ]
    },
    {
      "cell_type": "code",
      "metadata": {
        "id": "TgSoZT6jlCiZ",
        "colab_type": "code",
        "colab": {}
      },
      "source": [
        ""
      ],
      "execution_count": 0,
      "outputs": []
    }
  ]
}
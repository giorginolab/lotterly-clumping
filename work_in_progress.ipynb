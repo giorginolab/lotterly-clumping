{
  "nbformat": 4,
  "nbformat_minor": 0,
  "metadata": {
    "colab": {
      "name": "Colab's New Code Editor",
      "provenance": [],
      "collapsed_sections": [],
      "include_colab_link": true
    },
    "kernelspec": {
      "display_name": "Python 3",
      "name": "python3"
    }
  },
  "cells": [
    {
      "cell_type": "markdown",
      "metadata": {
        "id": "view-in-github",
        "colab_type": "text"
      },
      "source": [
        "<a href=\"https://colab.research.google.com/github/giorginolab/lottery-clumping/blob/master/work_in_progress.ipynb\" target=\"_parent\"><img src=\"https://colab.research.google.com/assets/colab-badge.svg\" alt=\"Open In Colab\"/></a>"
      ]
    },
    {
      "cell_type": "code",
      "metadata": {
        "id": "AABuJWZtfFgr",
        "colab_type": "code",
        "colab": {}
      },
      "source": [
        "import numpy as np\n",
        "import matplotlib.pyplot as plt\n"
      ],
      "execution_count": 0,
      "outputs": []
    },
    {
      "cell_type": "code",
      "metadata": {
        "id": "EKCTHEwbfGov",
        "colab_type": "code",
        "colab": {}
      },
      "source": [
        "def mdistC(n=200, N=int(6e6), C=2):\n",
        "  while True:\n",
        "    w = np.sort(np.random.randint(1,N,n))\n",
        "    wd = w-np.roll(w,C-1)\n",
        "    wd = wd[(C-1):]\n",
        "    m = np.min(wd)\n",
        "    if m != 0: break\n",
        "  return m"
      ],
      "execution_count": 0,
      "outputs": []
    },
    {
      "cell_type": "code",
      "metadata": {
        "id": "fUIqseqSgfcQ",
        "colab_type": "code",
        "colab": {}
      },
      "source": [
        "R=1000\n",
        "md = np.zeros([R],dtype=int)\n",
        "for i in range(R): \n",
        "  md[i] = mdistC()"
      ],
      "execution_count": 0,
      "outputs": []
    },
    {
      "cell_type": "code",
      "metadata": {
        "id": "HlhpRWO5hNHm",
        "colab_type": "code",
        "colab": {}
      },
      "source": [
        "u=np.bincount(md) / R\n",
        "cu = np.cumsum(u)"
      ],
      "execution_count": 0,
      "outputs": []
    },
    {
      "cell_type": "code",
      "metadata": {
        "id": "aM93YqJEhlYu",
        "colab_type": "code",
        "colab": {
          "base_uri": "https://localhost:8080/",
          "height": 282
        },
        "outputId": "4a478b3b-2b4d-4e20-a8ba-f98c439b1ccd"
      },
      "source": [
        "plt.plot(cu[0:20],'o')"
      ],
      "execution_count": 34,
      "outputs": [
        {
          "output_type": "execute_result",
          "data": {
            "text/plain": [
              "[<matplotlib.lines.Line2D at 0x7f26948aa588>]"
            ]
          },
          "metadata": {
            "tags": []
          },
          "execution_count": 34
        },
        {
          "output_type": "display_data",
          "data": {
            "image/png": "[encoded data removed]",
            "text/plain": [
              "<Figure size 432x288 with 1 Axes>"
            ]
          },
          "metadata": {
            "tags": []
          }
        }
      ]
    },
    {
      "cell_type": "code",
      "metadata": {
        "id": "WyHvw-IZij5e",
        "colab_type": "code",
        "colab": {}
      },
      "source": [
        ""
      ],
      "execution_count": 0,
      "outputs": []
    }
  ]
}